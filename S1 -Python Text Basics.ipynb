{
 "cells": [
  {
   "cell_type": "code",
   "execution_count": 1,
   "id": "2b1b3feb",
   "metadata": {},
   "outputs": [],
   "source": [
    "import numpy as np"
   ]
  },
  {
   "cell_type": "code",
   "execution_count": 2,
   "id": "2fbd5945",
   "metadata": {},
   "outputs": [
    {
     "name": "stdout",
     "output_type": "stream",
     "text": [
      "Jose\n"
     ]
    }
   ],
   "source": [
    "person = 'Jose'\n",
    "print(person)"
   ]
  },
  {
   "cell_type": "code",
   "execution_count": 3,
   "id": "03b864b3",
   "metadata": {},
   "outputs": [
    {
     "name": "stdout",
     "output_type": "stream",
     "text": [
      "My name is Jose\n"
     ]
    }
   ],
   "source": [
    "print(f\"My name is {person}\")"
   ]
  },
  {
   "cell_type": "code",
   "execution_count": 4,
   "id": "6f43436b",
   "metadata": {},
   "outputs": [
    {
     "name": "stdout",
     "output_type": "stream",
     "text": [
      "My name is {person}\n"
     ]
    }
   ],
   "source": [
    "print(\"My name is {person}\")"
   ]
  },
  {
   "cell_type": "code",
   "execution_count": 5,
   "id": "ce2268da",
   "metadata": {},
   "outputs": [],
   "source": [
    "d = {'a':123,'b':234}"
   ]
  },
  {
   "cell_type": "code",
   "execution_count": 6,
   "id": "a78fb11e",
   "metadata": {},
   "outputs": [
    {
     "data": {
      "text/plain": [
       "123"
      ]
     },
     "execution_count": 6,
     "metadata": {},
     "output_type": "execute_result"
    }
   ],
   "source": [
    "d['a']"
   ]
  },
  {
   "cell_type": "code",
   "execution_count": 7,
   "id": "165bf3b6",
   "metadata": {},
   "outputs": [
    {
     "data": {
      "text/plain": [
       "array([ 8, 24, 67, 87, 79, 48, 10, 94, 52, 98])"
      ]
     },
     "execution_count": 7,
     "metadata": {},
     "output_type": "execute_result"
    }
   ],
   "source": [
    "np.random.seed(100)\n",
    "my_list = np.random.randint(0,100,10)\n",
    "my_list"
   ]
  },
  {
   "cell_type": "code",
   "execution_count": 8,
   "id": "46d2a095",
   "metadata": {},
   "outputs": [
    {
     "name": "stdout",
     "output_type": "stream",
     "text": [
      "Hey's         10           48  ........94\n"
     ]
    }
   ],
   "source": [
    "print(f\"Hey's {my_list[6]:{10}}   {my_list[5]:{10}}  {my_list[7]:.>{10}}\")"
   ]
  },
  {
   "cell_type": "code",
   "execution_count": 9,
   "id": "666e341b",
   "metadata": {},
   "outputs": [],
   "source": [
    "from datetime import datetime"
   ]
  },
  {
   "cell_type": "code",
   "execution_count": 10,
   "id": "dcf7a909",
   "metadata": {},
   "outputs": [
    {
     "data": {
      "text/plain": [
       "datetime.datetime(2019, 2, 21, 0, 0)"
      ]
     },
     "execution_count": 10,
     "metadata": {},
     "output_type": "execute_result"
    }
   ],
   "source": [
    "today = datetime(year =2019 , month = 2 , day = 21)\n",
    "today"
   ]
  },
  {
   "cell_type": "code",
   "execution_count": 11,
   "id": "0dbd98a2",
   "metadata": {},
   "outputs": [],
   "source": [
    "#strftime.org"
   ]
  },
  {
   "cell_type": "markdown",
   "id": "1c732a4a",
   "metadata": {},
   "source": [
    "##  Next video content"
   ]
  },
  {
   "cell_type": "code",
   "execution_count": 12,
   "id": "a1779eac",
   "metadata": {},
   "outputs": [
    {
     "name": "stdout",
     "output_type": "stream",
     "text": [
      "Overwriting test.text\n"
     ]
    }
   ],
   "source": [
    "%%writefile test.text\n",
    "\n",
    "Hello this is a quick demo text file.\n",
    "It's  awesome isint it."
   ]
  },
  {
   "cell_type": "markdown",
   "id": "ff42e436",
   "metadata": {},
   "source": [
    "test = open('file.text')\n",
    "\n",
    "'''\n",
    "---------------------------------------------------------------------------\n",
    "FileNotFoundError                         Traceback (most recent call last)\n",
    "<ipython-input-13-520613cab8f2> in <module>\n",
    "----> 1 test = open('file.text')\n",
    "\n",
    "FileNotFoundError: [Errno 2] No such file or directory: 'file.text'\n",
    "\n",
    "'''"
   ]
  },
  {
   "cell_type": "code",
   "execution_count": 13,
   "id": "6572840b",
   "metadata": {},
   "outputs": [
    {
     "data": {
      "text/plain": [
       "<_io.TextIOWrapper name='test.text' mode='r' encoding='cp1252'>"
      ]
     },
     "execution_count": 13,
     "metadata": {},
     "output_type": "execute_result"
    }
   ],
   "source": [
    "test = open('test.text')\n",
    "test"
   ]
  },
  {
   "cell_type": "code",
   "execution_count": 14,
   "id": "89963719",
   "metadata": {},
   "outputs": [
    {
     "name": "stdout",
     "output_type": "stream",
     "text": [
      "<_io.TextIOWrapper name='test.text' mode='r' encoding='cp1252'>\n"
     ]
    }
   ],
   "source": [
    "print(test)"
   ]
  },
  {
   "cell_type": "code",
   "execution_count": 15,
   "id": "2f570624",
   "metadata": {},
   "outputs": [
    {
     "name": "stdout",
     "output_type": "stream",
     "text": [
      "Overwriting demo2.text\n"
     ]
    }
   ],
   "source": [
    "%%writefile demo2.text\n",
    "\n",
    "Hi \n",
    "2nd line \n",
    "3rd line"
   ]
  },
  {
   "cell_type": "code",
   "execution_count": 16,
   "id": "f6d48236",
   "metadata": {},
   "outputs": [],
   "source": [
    "demo2= open('demo2.text')"
   ]
  },
  {
   "cell_type": "code",
   "execution_count": 17,
   "id": "b4cb7eeb",
   "metadata": {},
   "outputs": [
    {
     "data": {
      "text/plain": [
       "'C:\\\\Users\\\\91731\\\\Desktop\\\\Natural language Processing'"
      ]
     },
     "execution_count": 17,
     "metadata": {},
     "output_type": "execute_result"
    }
   ],
   "source": [
    "pwd"
   ]
  },
  {
   "cell_type": "markdown",
   "id": "f93298ea",
   "metadata": {},
   "source": [
    "Command for present working directory \n",
    "->pwd"
   ]
  },
  {
   "cell_type": "code",
   "execution_count": 18,
   "id": "b81d0d03",
   "metadata": {},
   "outputs": [
    {
     "data": {
      "text/plain": [
       "<_io.TextIOWrapper name='demo2.text' mode='r' encoding='cp1252'>"
      ]
     },
     "execution_count": 18,
     "metadata": {},
     "output_type": "execute_result"
    }
   ],
   "source": [
    "demo2"
   ]
  },
  {
   "cell_type": "code",
   "execution_count": 19,
   "id": "b19532a1",
   "metadata": {},
   "outputs": [
    {
     "data": {
      "text/plain": [
       "'\\nUse  \\\\ for directory \\n\\n'"
      ]
     },
     "execution_count": 19,
     "metadata": {},
     "output_type": "execute_result"
    }
   ],
   "source": [
    "'''\n",
    "Use  \\\\ for directory \n",
    "\n",
    "'''"
   ]
  },
  {
   "cell_type": "code",
   "execution_count": 20,
   "id": "3bcc596a",
   "metadata": {},
   "outputs": [
    {
     "data": {
      "text/plain": [
       "\"\\nHello this is a quick demo text file.\\nIt's  awesome isint it.\\n\""
      ]
     },
     "execution_count": 20,
     "metadata": {},
     "output_type": "execute_result"
    }
   ],
   "source": [
    "# Reading the file\n",
    "\n",
    "test.read()"
   ]
  },
  {
   "cell_type": "code",
   "execution_count": 21,
   "id": "526e03b1",
   "metadata": {},
   "outputs": [
    {
     "data": {
      "text/plain": [
       "''"
      ]
     },
     "execution_count": 21,
     "metadata": {},
     "output_type": "execute_result"
    }
   ],
   "source": [
    "# NO SHOW !!\n",
    "test.read()"
   ]
  },
  {
   "cell_type": "code",
   "execution_count": 22,
   "id": "437a89fb",
   "metadata": {},
   "outputs": [
    {
     "data": {
      "text/plain": [
       "0"
      ]
     },
     "execution_count": 22,
     "metadata": {},
     "output_type": "execute_result"
    }
   ],
   "source": [
    "test.seek(0)"
   ]
  },
  {
   "cell_type": "code",
   "execution_count": 25,
   "id": "c0604797",
   "metadata": {},
   "outputs": [],
   "source": [
    "test.seek(0)\n",
    "test_content = test.read()"
   ]
  },
  {
   "cell_type": "code",
   "execution_count": 27,
   "id": "6c691759",
   "metadata": {},
   "outputs": [
    {
     "name": "stdout",
     "output_type": "stream",
     "text": [
      "\n",
      "Hello this is a quick demo text file.\n",
      "It's  awesome isint it.\n",
      "\n"
     ]
    }
   ],
   "source": [
    "print(test_content)"
   ]
  },
  {
   "cell_type": "code",
   "execution_count": 28,
   "id": "67ede543",
   "metadata": {},
   "outputs": [],
   "source": [
    "test.close()"
   ]
  },
  {
   "cell_type": "code",
   "execution_count": 29,
   "id": "16e21237",
   "metadata": {},
   "outputs": [
    {
     "data": {
      "text/plain": [
       "<_io.TextIOWrapper name='test.text' mode='r' encoding='cp1252'>"
      ]
     },
     "execution_count": 29,
     "metadata": {},
     "output_type": "execute_result"
    }
   ],
   "source": [
    "test"
   ]
  },
  {
   "cell_type": "code",
   "execution_count": 32,
   "id": "9d9c9334",
   "metadata": {},
   "outputs": [
    {
     "data": {
      "text/plain": [
       "['\\n', 'Hi \\n', '2nd line \\n', '3rd line\\n']"
      ]
     },
     "execution_count": 32,
     "metadata": {},
     "output_type": "execute_result"
    }
   ],
   "source": [
    "demo2.seek(0)\n",
    "demo2.readlines()"
   ]
  },
  {
   "cell_type": "code",
   "execution_count": 34,
   "id": "5a4a8aff",
   "metadata": {},
   "outputs": [
    {
     "data": {
      "text/plain": [
       "['\\n', 'Hi \\n', '2nd line \\n', '3rd line\\n']"
      ]
     },
     "execution_count": 34,
     "metadata": {},
     "output_type": "execute_result"
    }
   ],
   "source": [
    "demo2.seek(0)\n",
    "demo2_content = demo2.readlines()\n",
    "demo2_content"
   ]
  },
  {
   "cell_type": "code",
   "execution_count": 37,
   "id": "771f39ff",
   "metadata": {},
   "outputs": [
    {
     "data": {
      "text/plain": [
       "'2nd line \\n'"
      ]
     },
     "execution_count": 37,
     "metadata": {},
     "output_type": "execute_result"
    }
   ],
   "source": [
    "demo2_content[2]"
   ]
  },
  {
   "cell_type": "code",
   "execution_count": 38,
   "id": "f38befd4",
   "metadata": {},
   "outputs": [
    {
     "data": {
      "text/plain": [
       "''"
      ]
     },
     "execution_count": 38,
     "metadata": {},
     "output_type": "execute_result"
    }
   ],
   "source": [
    "# Opening a file with w+ permission\n",
    "myfile = open('test.text','w+')\n",
    "\n",
    "myfile.read()"
   ]
  },
  {
   "cell_type": "code",
   "execution_count": 39,
   "id": "4026aa9b",
   "metadata": {},
   "outputs": [
    {
     "data": {
      "text/plain": [
       "15"
      ]
     },
     "execution_count": 39,
     "metadata": {},
     "output_type": "execute_result"
    }
   ],
   "source": [
    "#Overwrites all the content of the file\n",
    "myfile.write('Barnd neew text')"
   ]
  },
  {
   "cell_type": "code",
   "execution_count": 41,
   "id": "c74ad662",
   "metadata": {},
   "outputs": [
    {
     "data": {
      "text/plain": [
       "'Barnd neew text'"
      ]
     },
     "execution_count": 41,
     "metadata": {},
     "output_type": "execute_result"
    }
   ],
   "source": [
    "myfile.seek(0)\n",
    "myfile.read()"
   ]
  },
  {
   "cell_type": "code",
   "execution_count": 42,
   "id": "3c04fd5a",
   "metadata": {},
   "outputs": [],
   "source": [
    "myfile.close()"
   ]
  },
  {
   "cell_type": "code",
   "execution_count": 43,
   "id": "bb677a80",
   "metadata": {},
   "outputs": [],
   "source": [
    "myfile = open('test.text','a+')"
   ]
  },
  {
   "cell_type": "code",
   "execution_count": 44,
   "id": "d3e2e58c",
   "metadata": {},
   "outputs": [
    {
     "data": {
      "text/plain": [
       "24"
      ]
     },
     "execution_count": 44,
     "metadata": {},
     "output_type": "execute_result"
    }
   ],
   "source": [
    "myfile.write('My first line in a+ open')"
   ]
  },
  {
   "cell_type": "code",
   "execution_count": 45,
   "id": "d57a6260",
   "metadata": {},
   "outputs": [],
   "source": [
    "myfile.close()"
   ]
  },
  {
   "cell_type": "markdown",
   "id": "70ca9cb1",
   "metadata": {},
   "source": [
    "## myfile.read()\n",
    "\n",
    "    ---------------------------------------------------------------------------\n",
    "    ValueError                                Traceback (most recent call last)\n",
    "    <ipython-input-47-f51008fa62ae> in <module>\n",
    "    ----> 1 myfile.read()\n",
    "\n",
    "    ##ValueError: I/O operation on closed file."
   ]
  },
  {
   "cell_type": "code",
   "execution_count": 54,
   "id": "f112fe14",
   "metadata": {},
   "outputs": [],
   "source": [
    "newfile = open('test.text')"
   ]
  },
  {
   "cell_type": "code",
   "execution_count": 55,
   "id": "fe530822",
   "metadata": {},
   "outputs": [
    {
     "data": {
      "text/plain": [
       "'Barnd neew textMy first line in a+ open'"
      ]
     },
     "execution_count": 55,
     "metadata": {},
     "output_type": "execute_result"
    }
   ],
   "source": [
    "newfile.read()"
   ]
  },
  {
   "cell_type": "code",
   "execution_count": 56,
   "id": "cd8ec4a4",
   "metadata": {},
   "outputs": [],
   "source": [
    "# you need to specify the mode to access the new file\n",
    "myfile = open('test.text', mode = 'a+')"
   ]
  },
  {
   "cell_type": "code",
   "execution_count": 58,
   "id": "bd5ef530",
   "metadata": {},
   "outputs": [
    {
     "data": {
      "text/plain": [
       "'Barnd neew textMy first line in a+ open'"
      ]
     },
     "execution_count": 58,
     "metadata": {},
     "output_type": "execute_result"
    }
   ],
   "source": [
    "myfile.seek(0)\n",
    "myfile.read()"
   ]
  },
  {
   "cell_type": "code",
   "execution_count": 59,
   "id": "0fa988b6",
   "metadata": {},
   "outputs": [
    {
     "data": {
      "text/plain": [
       "20"
      ]
     },
     "execution_count": 59,
     "metadata": {},
     "output_type": "execute_result"
    }
   ],
   "source": [
    "myfile.write(\"Hey it's working !!!\")"
   ]
  },
  {
   "cell_type": "code",
   "execution_count": 60,
   "id": "59638c87",
   "metadata": {},
   "outputs": [
    {
     "data": {
      "text/plain": [
       "29"
      ]
     },
     "execution_count": 60,
     "metadata": {},
     "output_type": "execute_result"
    }
   ],
   "source": [
    "myfile.write(\"Hey it's new first line \\n !!!\")"
   ]
  },
  {
   "cell_type": "code",
   "execution_count": 63,
   "id": "b29dc90e",
   "metadata": {},
   "outputs": [
    {
     "data": {
      "text/plain": [
       "\"Barnd neew textMy first line in a+ openHey it's working !!!Hey it's new first line \\n !!!\""
      ]
     },
     "execution_count": 63,
     "metadata": {},
     "output_type": "execute_result"
    }
   ],
   "source": [
    "myfile.seek(0)\n",
    "myfile.read()"
   ]
  },
  {
   "cell_type": "code",
   "execution_count": 64,
   "id": "b17a2930",
   "metadata": {},
   "outputs": [],
   "source": [
    "with open('test.text','r') as anotherfile:\n",
    "    temp = anotherfile.readlines()"
   ]
  },
  {
   "cell_type": "code",
   "execution_count": 65,
   "id": "fd582e2c",
   "metadata": {},
   "outputs": [
    {
     "data": {
      "text/plain": [
       "[\"Barnd neew textMy first line in a+ openHey it's working !!!Hey it's new first line \\n\",\n",
       " ' !!!']"
      ]
     },
     "execution_count": 65,
     "metadata": {},
     "output_type": "execute_result"
    }
   ],
   "source": [
    "temp"
   ]
  },
  {
   "cell_type": "code",
   "execution_count": 66,
   "id": "332930ea",
   "metadata": {},
   "outputs": [
    {
     "data": {
      "text/plain": [
       "\"Barnd neew textMy first line in a+ openHey it's working !!!Hey it's new first line \\n\""
      ]
     },
     "execution_count": 66,
     "metadata": {},
     "output_type": "execute_result"
    }
   ],
   "source": [
    "temp[0]"
   ]
  },
  {
   "cell_type": "markdown",
   "id": "895a908a",
   "metadata": {},
   "source": [
    "# "
   ]
  },
  {
   "cell_type": "markdown",
   "id": "a4c555e5",
   "metadata": {},
   "source": [
    "# Regular Expressions"
   ]
  },
  {
   "cell_type": "code",
   "execution_count": 67,
   "id": "54341823",
   "metadata": {},
   "outputs": [],
   "source": [
    "text = \" Phone no of agent is 408-555-1234 .Call Soon!\""
   ]
  },
  {
   "cell_type": "code",
   "execution_count": 68,
   "id": "54a0d330",
   "metadata": {},
   "outputs": [
    {
     "data": {
      "text/plain": [
       "True"
      ]
     },
     "execution_count": 68,
     "metadata": {},
     "output_type": "execute_result"
    }
   ],
   "source": [
    "'408-555-1234' in text"
   ]
  },
  {
   "cell_type": "code",
   "execution_count": 69,
   "id": "8569902f",
   "metadata": {},
   "outputs": [],
   "source": [
    "import re"
   ]
  },
  {
   "cell_type": "code",
   "execution_count": 72,
   "id": "5e4ebf2e",
   "metadata": {},
   "outputs": [],
   "source": [
    "pattern = 'Phone'"
   ]
  },
  {
   "cell_type": "markdown",
   "id": "44844bce",
   "metadata": {},
   "source": [
    "# re.search()"
   ]
  },
  {
   "cell_type": "code",
   "execution_count": 78,
   "id": "48b3e199",
   "metadata": {},
   "outputs": [
    {
     "data": {
      "text/plain": [
       "<re.Match object; span=(1, 6), match='Phone'>"
      ]
     },
     "execution_count": 78,
     "metadata": {},
     "output_type": "execute_result"
    }
   ],
   "source": [
    "my_match = re.search(pattern , text)\n",
    "my_match"
   ]
  },
  {
   "cell_type": "code",
   "execution_count": 75,
   "id": "ef5927b0",
   "metadata": {},
   "outputs": [
    {
     "data": {
      "text/plain": [
       "(1, 6)"
      ]
     },
     "execution_count": 75,
     "metadata": {},
     "output_type": "execute_result"
    }
   ],
   "source": [
    "my_match.span()"
   ]
  },
  {
   "cell_type": "code",
   "execution_count": 76,
   "id": "43742912",
   "metadata": {},
   "outputs": [
    {
     "data": {
      "text/plain": [
       "1"
      ]
     },
     "execution_count": 76,
     "metadata": {},
     "output_type": "execute_result"
    }
   ],
   "source": [
    "my_match.start()"
   ]
  },
  {
   "cell_type": "code",
   "execution_count": 77,
   "id": "e3f74560",
   "metadata": {},
   "outputs": [
    {
     "data": {
      "text/plain": [
       "6"
      ]
     },
     "execution_count": 77,
     "metadata": {},
     "output_type": "execute_result"
    }
   ],
   "source": [
    "my_match.end()"
   ]
  },
  {
   "cell_type": "code",
   "execution_count": 79,
   "id": "7be6f38e",
   "metadata": {},
   "outputs": [
    {
     "data": {
      "text/plain": [
       "['Phone']"
      ]
     },
     "execution_count": 79,
     "metadata": {},
     "output_type": "execute_result"
    }
   ],
   "source": [
    "re.findall(pattern , text)"
   ]
  },
  {
   "cell_type": "code",
   "execution_count": 80,
   "id": "2a9bfed3",
   "metadata": {},
   "outputs": [
    {
     "data": {
      "text/plain": [
       "1"
      ]
     },
     "execution_count": 80,
     "metadata": {},
     "output_type": "execute_result"
    }
   ],
   "source": [
    "# No of matches\n",
    "\n",
    "len(re.findall(pattern , text))"
   ]
  },
  {
   "cell_type": "code",
   "execution_count": 83,
   "id": "b40acb87",
   "metadata": {},
   "outputs": [
    {
     "name": "stdout",
     "output_type": "stream",
     "text": [
      "(1, 6)\n"
     ]
    }
   ],
   "source": [
    "for match in re.finditer(pattern,text):\n",
    "    print(match.span())"
   ]
  },
  {
   "cell_type": "markdown",
   "id": "4bc6053c",
   "metadata": {},
   "source": [
    "# Identifiers - Pattern Matching"
   ]
  },
  {
   "cell_type": "markdown",
   "id": "6b9aad7d",
   "metadata": {},
   "source": [
    "<table ><tr><th>Character</th><th>Description</th><th>Example Pattern Code</th><th >Exammple Match</th></tr>\n",
    "\n",
    "<tr ><td><span >\\d</span></td><td>A digit</td><td>file_\\d\\d</td><td>file_25</td></tr>\n",
    "\n",
    "<tr ><td><span >\\w</span></td><td>Alphanumeric</td><td>\\w-\\w\\w\\w</td><td>A-b_1</td></tr>\n",
    "\n",
    "\n",
    "\n",
    "<tr ><td><span >\\s</span></td><td>White space</td><td>a\\sb\\sc</td><td>a b c</td></tr>\n",
    "\n",
    "\n",
    "\n",
    "<tr ><td><span >\\D</span></td><td>A non digit</td><td>\\D\\D\\D</td><td>ABC</td></tr>\n",
    "\n",
    "<tr ><td><span >\\W</span></td><td>Non-alphanumeric</td><td>\\W\\W\\W\\W\\W</td><td>*-+=)</td></tr>\n",
    "\n",
    "<tr ><td><span >\\S</span></td><td>Non-whitespace</td><td>\\S\\S\\S\\S</td><td>Yoyo</td></tr></table>"
   ]
  },
  {
   "cell_type": "code",
   "execution_count": 85,
   "id": "403150c8",
   "metadata": {},
   "outputs": [
    {
     "data": {
      "text/plain": [
       "' Phone no of agent is 408-555-1234 .Call Soon!'"
      ]
     },
     "execution_count": 85,
     "metadata": {},
     "output_type": "execute_result"
    }
   ],
   "source": [
    "text"
   ]
  },
  {
   "cell_type": "code",
   "execution_count": 86,
   "id": "77f90e49",
   "metadata": {},
   "outputs": [],
   "source": [
    "pattern = r'\\d\\d\\d-\\d\\d\\d-\\d\\d\\d\\d'"
   ]
  },
  {
   "cell_type": "code",
   "execution_count": 89,
   "id": "b3fa47ff",
   "metadata": {},
   "outputs": [
    {
     "data": {
      "text/plain": [
       "<re.Match object; span=(22, 34), match='408-555-1234'>"
      ]
     },
     "execution_count": 89,
     "metadata": {},
     "output_type": "execute_result"
    }
   ],
   "source": [
    "phone_no = re.search(pattern,text)\n",
    "phone_no"
   ]
  },
  {
   "cell_type": "code",
   "execution_count": 90,
   "id": "0900dd80",
   "metadata": {},
   "outputs": [
    {
     "data": {
      "text/plain": [
       "'408-555-1234'"
      ]
     },
     "execution_count": 90,
     "metadata": {},
     "output_type": "execute_result"
    }
   ],
   "source": [
    "phone_no.group()"
   ]
  },
  {
   "cell_type": "code",
   "execution_count": 98,
   "id": "e97aaaf2",
   "metadata": {},
   "outputs": [],
   "source": [
    "text1 =  '408-555-1234 508-555-1234 608-555-1234'"
   ]
  },
  {
   "cell_type": "code",
   "execution_count": 92,
   "id": "9f8093b9",
   "metadata": {},
   "outputs": [],
   "source": [
    "pattern = r'\\d\\d\\d-\\d\\d\\d-\\d\\d\\d\\d'"
   ]
  },
  {
   "cell_type": "markdown",
   "id": "479d2367",
   "metadata": {},
   "source": [
    "### re.findall()"
   ]
  },
  {
   "cell_type": "code",
   "execution_count": 93,
   "id": "fd720d9f",
   "metadata": {},
   "outputs": [
    {
     "data": {
      "text/plain": [
       "['408-555-1234', '408-555-1234', '408-555-1234']"
      ]
     },
     "execution_count": 93,
     "metadata": {},
     "output_type": "execute_result"
    }
   ],
   "source": [
    "re.findall(pattern,text1)"
   ]
  },
  {
   "cell_type": "markdown",
   "id": "dde68704",
   "metadata": {},
   "source": [
    "# Quantifiers "
   ]
  },
  {
   "cell_type": "markdown",
   "id": "f6982cde",
   "metadata": {},
   "source": [
    "<table ><tr><th>Character</th><th>Description</th><th>Example Pattern Code</th><th >Exammple Match</th></tr>\n",
    "\n",
    "<tr ><td><span >+</span></td><td>Occurs one or more times</td><td>\tVersion \\w-\\w+</td><td>Version A-b1_1</td></tr>\n",
    "\n",
    "<tr ><td><span >{3}</span></td><td>Occurs exactly 3 times</td><td>\\D{3}</td><td>abc</td></tr>\n",
    "\n",
    "\n",
    "\n",
    "<tr ><td><span >{2,4}</span></td><td>Occurs 2 to 4 times</td><td>\\d{2,4}</td><td>123</td></tr>\n",
    "\n",
    "\n",
    "\n",
    "<tr ><td><span >{3,}</span></td><td>Occurs 3 or more</td><td>\\w{3,}</td><td>anycharacters</td></tr>\n",
    "\n",
    "<tr ><td><span >\\*</span></td><td>Occurs zero or more times</td><td>A\\*B\\*C*</td><td>AAACC</td></tr>\n",
    "\n",
    "<tr ><td><span >?</span></td><td>Once or none</td><td>plurals?</td><td>plural</td></tr></table>"
   ]
  },
  {
   "cell_type": "code",
   "execution_count": 100,
   "id": "9eee750c",
   "metadata": {},
   "outputs": [
    {
     "data": {
      "text/plain": [
       "<re.Match object; span=(0, 12), match='408-555-1234'>"
      ]
     },
     "execution_count": 100,
     "metadata": {},
     "output_type": "execute_result"
    }
   ],
   "source": [
    "pattern = r'\\d{3}-\\d{3}-\\d{4}'\n",
    "\n",
    "re.search(pattern,text1)"
   ]
  },
  {
   "cell_type": "code",
   "execution_count": 101,
   "id": "8b4c731f",
   "metadata": {},
   "outputs": [
    {
     "data": {
      "text/plain": [
       "'408-555-1234'"
      ]
     },
     "execution_count": 101,
     "metadata": {},
     "output_type": "execute_result"
    }
   ],
   "source": [
    "re.search(pattern,text1).group()"
   ]
  },
  {
   "cell_type": "code",
   "execution_count": 102,
   "id": "ca51cc82",
   "metadata": {},
   "outputs": [
    {
     "data": {
      "text/plain": [
       "['408-555-1234', '508-555-1234', '608-555-1234']"
      ]
     },
     "execution_count": 102,
     "metadata": {},
     "output_type": "execute_result"
    }
   ],
   "source": [
    "re.findall(pattern,text1)"
   ]
  },
  {
   "cell_type": "code",
   "execution_count": 108,
   "id": "4f27f747",
   "metadata": {},
   "outputs": [
    {
     "data": {
      "text/plain": [
       "'408'"
      ]
     },
     "execution_count": 108,
     "metadata": {},
     "output_type": "execute_result"
    }
   ],
   "source": [
    "pattern = r'(\\d{3})-(\\d{3})-(\\d{4})'\n",
    "\n",
    "re.search(pattern,text1).group(1)"
   ]
  },
  {
   "cell_type": "code",
   "execution_count": 110,
   "id": "c603ad06",
   "metadata": {},
   "outputs": [
    {
     "data": {
      "text/plain": [
       "'8'"
      ]
     },
     "execution_count": 110,
     "metadata": {},
     "output_type": "execute_result"
    }
   ],
   "source": [
    "pattern = r'(\\d{3})-(\\d{3})-(\\d{4})'\n",
    "\n",
    "re.search(pattern,text1).group(1)[2]"
   ]
  },
  {
   "cell_type": "markdown",
   "id": "61fbe44c",
   "metadata": {},
   "source": [
    "###  Pipe operator\n",
    "\n"
   ]
  },
  {
   "cell_type": "code",
   "execution_count": 112,
   "id": "9770c2e3",
   "metadata": {},
   "outputs": [
    {
     "data": {
      "text/plain": [
       "'man'"
      ]
     },
     "execution_count": 112,
     "metadata": {},
     "output_type": "execute_result"
    }
   ],
   "source": [
    "re.search(r'man|woman', 'This man is a liar').group()"
   ]
  },
  {
   "cell_type": "code",
   "execution_count": 113,
   "id": "128295ca",
   "metadata": {},
   "outputs": [
    {
     "data": {
      "text/plain": [
       "'woman'"
      ]
     },
     "execution_count": 113,
     "metadata": {},
     "output_type": "execute_result"
    }
   ],
   "source": [
    "re.search(r'man|woman', 'This woman is a liar').group()"
   ]
  },
  {
   "cell_type": "code",
   "execution_count": 115,
   "id": "6997381f",
   "metadata": {},
   "outputs": [
    {
     "data": {
      "text/plain": [
       "['cat', 'sat', 'hat', 'hat']"
      ]
     },
     "execution_count": 115,
     "metadata": {},
     "output_type": "execute_result"
    }
   ],
   "source": [
    "re.findall(r'.at','Thet cat sat in that hat')"
   ]
  },
  {
   "cell_type": "code",
   "execution_count": 116,
   "id": "46b890c9",
   "metadata": {},
   "outputs": [
    {
     "data": {
      "text/plain": [
       "[' cat', ' sat', 'that', 'phat']"
      ]
     },
     "execution_count": 116,
     "metadata": {},
     "output_type": "execute_result"
    }
   ],
   "source": [
    "re.findall(r'..at','Thet cat sat in that sophat')"
   ]
  },
  {
   "cell_type": "markdown",
   "id": "0a26e03a",
   "metadata": {},
   "source": [
    "    ^ -starts with\n",
    "    & - ends with "
   ]
  },
  {
   "cell_type": "code",
   "execution_count": 126,
   "id": "c616575d",
   "metadata": {},
   "outputs": [
    {
     "data": {
      "text/plain": [
       "['6']"
      ]
     },
     "execution_count": 126,
     "metadata": {},
     "output_type": "execute_result"
    }
   ],
   "source": [
    "re.findall(r\"^\\d\",'6 th is 5')"
   ]
  },
  {
   "cell_type": "code",
   "execution_count": 127,
   "id": "a45d70cd",
   "metadata": {},
   "outputs": [
    {
     "data": {
      "text/plain": [
       "['5']"
      ]
     },
     "execution_count": 127,
     "metadata": {},
     "output_type": "execute_result"
    }
   ],
   "source": [
    "re.findall(r\"\\d$\",'6 th is 5')"
   ]
  },
  {
   "cell_type": "code",
   "execution_count": 128,
   "id": "bb1d95dd",
   "metadata": {},
   "outputs": [],
   "source": [
    "phrase = 'There are 3 numbers 34 inside 5 this sentence'"
   ]
  },
  {
   "cell_type": "code",
   "execution_count": 131,
   "id": "e1bec89c",
   "metadata": {},
   "outputs": [
    {
     "data": {
      "text/plain": [
       "['T',\n",
       " 'h',\n",
       " 'e',\n",
       " 'r',\n",
       " 'e',\n",
       " ' ',\n",
       " 'a',\n",
       " 'r',\n",
       " 'e',\n",
       " ' ',\n",
       " ' ',\n",
       " 'n',\n",
       " 'u',\n",
       " 'm',\n",
       " 'b',\n",
       " 'e',\n",
       " 'r',\n",
       " 's',\n",
       " ' ',\n",
       " ' ',\n",
       " 'i',\n",
       " 'n',\n",
       " 's',\n",
       " 'i',\n",
       " 'd',\n",
       " 'e',\n",
       " ' ',\n",
       " ' ',\n",
       " 't',\n",
       " 'h',\n",
       " 'i',\n",
       " 's',\n",
       " ' ',\n",
       " 's',\n",
       " 'e',\n",
       " 'n',\n",
       " 't',\n",
       " 'e',\n",
       " 'n',\n",
       " 'c',\n",
       " 'e']"
      ]
     },
     "execution_count": 131,
     "metadata": {},
     "output_type": "execute_result"
    }
   ],
   "source": [
    "re.findall(r\"[^\\d]\",phrase)"
   ]
  },
  {
   "cell_type": "code",
   "execution_count": 132,
   "id": "43734df1",
   "metadata": {},
   "outputs": [
    {
     "data": {
      "text/plain": [
       "['There are ', ' numbers ', ' inside ', ' this sentence']"
      ]
     },
     "execution_count": 132,
     "metadata": {},
     "output_type": "execute_result"
    }
   ],
   "source": [
    "re.findall(r\"[^\\d]+\",phrase)"
   ]
  },
  {
   "cell_type": "code",
   "execution_count": 142,
   "id": "2add81cf",
   "metadata": {},
   "outputs": [
    {
     "data": {
      "text/plain": [
       "['this', 'is', 'a', 'string', 'with', 'punctuation']"
      ]
     },
     "execution_count": 142,
     "metadata": {},
     "output_type": "execute_result"
    }
   ],
   "source": [
    "phrase2 = \"this is . a ? string with !!!punctuation !!..\"\n",
    "\n",
    "re.findall(r\"[^?.! ]+\",phrase2)"
   ]
  },
  {
   "cell_type": "code",
   "execution_count": 143,
   "id": "895582e6",
   "metadata": {},
   "outputs": [
    {
     "data": {
      "text/plain": [
       "'this is  a  string with punctuation '"
      ]
     },
     "execution_count": 143,
     "metadata": {},
     "output_type": "execute_result"
    }
   ],
   "source": [
    "mlist = re.findall(r\"[^?.!]\",phrase2)\n",
    "\n",
    "\"\".join(mlist)"
   ]
  },
  {
   "cell_type": "code",
   "execution_count": 144,
   "id": "d3c2a160",
   "metadata": {},
   "outputs": [],
   "source": [
    "# + acts aS any no of occurances"
   ]
  },
  {
   "cell_type": "code",
   "execution_count": 146,
   "id": "80866a6e",
   "metadata": {},
   "outputs": [
    {
     "data": {
      "text/plain": [
       "['long-isg', 'heav-ish', 'blend-ed']"
      ]
     },
     "execution_count": 146,
     "metadata": {},
     "output_type": "execute_result"
    }
   ],
   "source": [
    "text = 'this a  long-isg , heav-ish and  blend-ed sentence'\n",
    "re.findall(r\"[\\w]+-[\\w]+\",text)"
   ]
  },
  {
   "cell_type": "code",
   "execution_count": null,
   "id": "01edad63",
   "metadata": {},
   "outputs": [],
   "source": []
  }
 ],
 "metadata": {
  "kernelspec": {
   "display_name": "Python 3",
   "language": "python",
   "name": "python3"
  },
  "language_info": {
   "codemirror_mode": {
    "name": "ipython",
    "version": 3
   },
   "file_extension": ".py",
   "mimetype": "text/x-python",
   "name": "python",
   "nbconvert_exporter": "python",
   "pygments_lexer": "ipython3",
   "version": "3.8.8"
  }
 },
 "nbformat": 4,
 "nbformat_minor": 5
}
